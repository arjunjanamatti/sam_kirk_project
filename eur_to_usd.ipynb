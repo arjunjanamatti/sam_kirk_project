{
  "nbformat": 4,
  "nbformat_minor": 0,
  "metadata": {
    "colab": {
      "name": "eur_to_usd.ipynb",
      "provenance": [],
      "mount_file_id": "1pWtw_InDMJhiRMLvPydg-KYqZBRD6WPv",
      "authorship_tag": "ABX9TyMe3MJEAXFpFpyOobJx0MuZ",
      "include_colab_link": true
    },
    "kernelspec": {
      "name": "python3",
      "display_name": "Python 3"
    }
  },
  "cells": [
    {
      "cell_type": "markdown",
      "metadata": {
        "id": "view-in-github",
        "colab_type": "text"
      },
      "source": [
        "<a href=\"https://colab.research.google.com/github/arjunjanamatti/sam_kirk_project/blob/master/eur_to_usd.ipynb\" target=\"_parent\"><img src=\"https://colab.research.google.com/assets/colab-badge.svg\" alt=\"Open In Colab\"/></a>"
      ]
    },
    {
      "cell_type": "code",
      "metadata": {
        "id": "pX1bIeT8SbLY"
      },
      "source": [
        "import numpy as np\n",
        "import pandas as pd\n",
        "import matplotlib.pyplot as plt\n",
        "from sklearn.preprocessing import MinMaxScaler\n",
        "#for deep learning model\n",
        "from tensorflow.keras import Sequential\n",
        "from tensorflow.keras.layers import Dense\n",
        "from tensorflow.keras.layers import LSTM\n",
        "from tensorflow.keras.layers import Dropout\n",
        "import seaborn as sns"
      ],
      "execution_count": 1,
      "outputs": []
    },
    {
      "cell_type": "code",
      "metadata": {
        "id": "UyP2uFFKUc_0",
        "outputId": "bd195b5b-59b1-488d-a482-6fd3eded6b63",
        "colab": {
          "base_uri": "https://localhost:8080/",
          "height": 224
        }
      },
      "source": [
        "eur_usd_df = pd.read_csv('/content/drive/My Drive/Colab Notebooks/^eurusd_daily_historical-data-09-30-2020.csv')\n",
        "print('Shape of dataframe: ', eur_usd_df.shape)\n",
        "eur_usd_df.head()"
      ],
      "execution_count": 5,
      "outputs": [
        {
          "output_type": "stream",
          "text": [
            "Shape of dataframe:  (5385, 7)\n"
          ],
          "name": "stdout"
        },
        {
          "output_type": "execute_result",
          "data": {
            "text/html": [
              "<div>\n",
              "<style scoped>\n",
              "    .dataframe tbody tr th:only-of-type {\n",
              "        vertical-align: middle;\n",
              "    }\n",
              "\n",
              "    .dataframe tbody tr th {\n",
              "        vertical-align: top;\n",
              "    }\n",
              "\n",
              "    .dataframe thead th {\n",
              "        text-align: right;\n",
              "    }\n",
              "</style>\n",
              "<table border=\"1\" class=\"dataframe\">\n",
              "  <thead>\n",
              "    <tr style=\"text-align: right;\">\n",
              "      <th></th>\n",
              "      <th>Time</th>\n",
              "      <th>Open</th>\n",
              "      <th>High</th>\n",
              "      <th>Low</th>\n",
              "      <th>Last</th>\n",
              "      <th>Change</th>\n",
              "      <th>Volume</th>\n",
              "    </tr>\n",
              "  </thead>\n",
              "  <tbody>\n",
              "    <tr>\n",
              "      <th>0</th>\n",
              "      <td>09/30/2020</td>\n",
              "      <td>1.17425</td>\n",
              "      <td>1.17547</td>\n",
              "      <td>1.16848</td>\n",
              "      <td>1.17309</td>\n",
              "      <td>-0.00115</td>\n",
              "      <td>167943.0</td>\n",
              "    </tr>\n",
              "    <tr>\n",
              "      <th>1</th>\n",
              "      <td>09/29/2020</td>\n",
              "      <td>1.16650</td>\n",
              "      <td>1.17450</td>\n",
              "      <td>1.16610</td>\n",
              "      <td>1.17424</td>\n",
              "      <td>0.00774</td>\n",
              "      <td>193717.0</td>\n",
              "    </tr>\n",
              "    <tr>\n",
              "      <th>2</th>\n",
              "      <td>09/28/2020</td>\n",
              "      <td>1.16213</td>\n",
              "      <td>1.16797</td>\n",
              "      <td>1.16151</td>\n",
              "      <td>1.16650</td>\n",
              "      <td>0.00354</td>\n",
              "      <td>187734.0</td>\n",
              "    </tr>\n",
              "    <tr>\n",
              "      <th>3</th>\n",
              "      <td>09/25/2020</td>\n",
              "      <td>1.16688</td>\n",
              "      <td>1.16847</td>\n",
              "      <td>1.16127</td>\n",
              "      <td>1.16296</td>\n",
              "      <td>-0.00394</td>\n",
              "      <td>211829.0</td>\n",
              "    </tr>\n",
              "    <tr>\n",
              "      <th>4</th>\n",
              "      <td>09/24/2020</td>\n",
              "      <td>1.16597</td>\n",
              "      <td>1.16867</td>\n",
              "      <td>1.16265</td>\n",
              "      <td>1.16690</td>\n",
              "      <td>0.00093</td>\n",
              "      <td>247053.0</td>\n",
              "    </tr>\n",
              "  </tbody>\n",
              "</table>\n",
              "</div>"
            ],
            "text/plain": [
              "         Time     Open     High      Low     Last   Change    Volume\n",
              "0  09/30/2020  1.17425  1.17547  1.16848  1.17309 -0.00115  167943.0\n",
              "1  09/29/2020  1.16650  1.17450  1.16610  1.17424  0.00774  193717.0\n",
              "2  09/28/2020  1.16213  1.16797  1.16151  1.16650  0.00354  187734.0\n",
              "3  09/25/2020  1.16688  1.16847  1.16127  1.16296 -0.00394  211829.0\n",
              "4  09/24/2020  1.16597  1.16867  1.16265  1.16690  0.00093  247053.0"
            ]
          },
          "metadata": {
            "tags": []
          },
          "execution_count": 5
        }
      ]
    },
    {
      "cell_type": "code",
      "metadata": {
        "id": "9E5tGP4mOzcU",
        "outputId": "09b1259c-81b3-48b5-9a64-4781b5e328f3",
        "colab": {
          "base_uri": "https://localhost:8080/",
          "height": 271
        }
      },
      "source": [
        "eur_usd_df.info()"
      ],
      "execution_count": 10,
      "outputs": [
        {
          "output_type": "stream",
          "text": [
            "<class 'pandas.core.frame.DataFrame'>\n",
            "RangeIndex: 5385 entries, 0 to 5384\n",
            "Data columns (total 7 columns):\n",
            " #   Column  Non-Null Count  Dtype  \n",
            "---  ------  --------------  -----  \n",
            " 0   Time    5385 non-null   object \n",
            " 1   Open    5384 non-null   float64\n",
            " 2   High    5384 non-null   float64\n",
            " 3   Low     5384 non-null   float64\n",
            " 4   Last    5384 non-null   float64\n",
            " 5   Change  5384 non-null   float64\n",
            " 6   Volume  5384 non-null   float64\n",
            "dtypes: float64(6), object(1)\n",
            "memory usage: 294.6+ KB\n"
          ],
          "name": "stdout"
        }
      ]
    },
    {
      "cell_type": "code",
      "metadata": {
        "id": "Sx6IH8TzUm6j"
      },
      "source": [
        "df_with_volume_change = eur_usd_df.iloc[:,[-1,-3]]"
      ],
      "execution_count": 3,
      "outputs": []
    },
    {
      "cell_type": "code",
      "metadata": {
        "id": "VkO6RNP2U0i5",
        "outputId": "01c21cb4-2e87-4b79-ab0a-341bdbc7aefb",
        "colab": {
          "base_uri": "https://localhost:8080/",
          "height": 324
        }
      },
      "source": [
        "eur_usd_df_1 = eur_usd_df.drop(labels = ['Change'], axis = 1 )\n",
        "plt.figure(figsize=(5,5))\n",
        "sns.heatmap(df_with_volume_change.corr(), annot=True)\n",
        "plt.show()"
      ],
      "execution_count": 4,
      "outputs": [
        {
          "output_type": "display_data",
          "data": {
            "image/png": "[encoded data removed]",
            "text/plain": [
              "<Figure size 360x360 with 2 Axes>"
            ]
          },
          "metadata": {
            "tags": [],
            "needs_background": "light"
          }
        }
      ]
    },
    {
      "cell_type": "code",
      "metadata": {
        "id": "iUF8kSDaVL__",
        "outputId": "3433734d-2c64-44d0-94f4-6b4e918d8368",
        "colab": {
          "base_uri": "https://localhost:8080/",
          "height": 53
        }
      },
      "source": [
        "open_price = eur_usd_df.iloc[:-1,1:2]\n",
        "train_set = open_price[:len(open_price)-15].values\n",
        "test_set = open_price[len(open_price)-15:].values\n",
        "print(\"Train size: \",train_set.shape)\n",
        "print(\"Test size:\",test_set.shape)"
      ],
      "execution_count": 23,
      "outputs": [
        {
          "output_type": "stream",
          "text": [
            "Train size:  (5369, 1)\n",
            "Test size: (15, 1)\n"
          ],
          "name": "stdout"
        }
      ]
    },
    {
      "cell_type": "code",
      "metadata": {
        "id": "N8bQFAduOMCj",
        "outputId": "73aa45d9-09df-4ae2-e133-1bf2030b76d5",
        "colab": {
          "base_uri": "https://localhost:8080/",
          "height": 283
        }
      },
      "source": [
        "dates = pd.to_datetime(eur_usd_df.iloc[:-1,0])\n",
        "plt.plot_date(dates, open_price,fmt='-')"
      ],
      "execution_count": 24,
      "outputs": [
        {
          "output_type": "execute_result",
          "data": {
            "text/plain": [
              "[<matplotlib.lines.Line2D at 0x7efe69307f60>]"
            ]
          },
          "metadata": {
            "tags": []
          },
          "execution_count": 24
        },
        {
          "output_type": "display_data",
          "data": {
            "image/png": "[encoded data removed]",
            "text/plain": [
              "<Figure size 432x288 with 1 Axes>"
            ]
          },
          "metadata": {
            "tags": [],
            "needs_background": "light"
          }
        }
      ]
    },
    {
      "cell_type": "code",
      "metadata": {
        "id": "WiBREi3aOQ0x"
      },
      "source": [
        "x_train = []\n",
        "y_train = []\n",
        "sequence_length = 2\n",
        "for i in range(len(train_set)):\n",
        "    if (i + sequence_length) < len(train_set):\n",
        "        x_train.append(train_set[i:i+sequence_length])\n",
        "        y_train.append(train_set[i+sequence_length])"
      ],
      "execution_count": 25,
      "outputs": []
    },
    {
      "cell_type": "code",
      "metadata": {
        "id": "XKNIK_-vPedU",
        "outputId": "01b5a036-38be-4656-9c05-b3361763fc60",
        "colab": {
          "base_uri": "https://localhost:8080/",
          "height": 35
        }
      },
      "source": [
        "x_train = np.array(x_train)\n",
        "y_train = np.array(y_train)\n",
        "x_train = np.reshape(x_train,(x_train.shape[0],x_train.shape[1],1))\n",
        "x_train.shape"
      ],
      "execution_count": 26,
      "outputs": [
        {
          "output_type": "execute_result",
          "data": {
            "text/plain": [
              "(5367, 2, 1)"
            ]
          },
          "metadata": {
            "tags": []
          },
          "execution_count": 26
        }
      ]
    },
    {
      "cell_type": "code",
      "metadata": {
        "id": "nENPVZ-QPib_",
        "outputId": "91076ff5-0781-4086-d31f-4ba743b3437c",
        "colab": {
          "base_uri": "https://localhost:8080/",
          "height": 217
        }
      },
      "source": [
        "lstm_model = Sequential()\n",
        "\n",
        "lstm_model.add(LSTM(units = 100,return_sequences=True,input_shape=(x_train.shape[1],1)))\n",
        "lstm_model.add(Dropout(0.2))\n",
        "\n",
        "lstm_model.add(LSTM(units = 100,return_sequences=True))\n",
        "lstm_model.add(Dropout(0.2))\n",
        "\n",
        "lstm_model.add(LSTM(units = 100,return_sequences=True))\n",
        "lstm_model.add(Dropout(0.2))\n",
        "\n",
        "lstm_model.add(LSTM(units=100))\n",
        "lstm_model.add(Dropout(0.2))\n",
        "\n",
        "lstm_model.add(Dense(units=1))\n",
        "lstm_model.compile(optimizer = 'adam',loss='mean_squared_error')\n",
        "lstm_model.fit(x_train,y_train, epochs=5, batch_size =1)"
      ],
      "execution_count": 27,
      "outputs": [
        {
          "output_type": "stream",
          "text": [
            "Epoch 1/5\n",
            "5367/5367 [==============================] - 36s 7ms/step - loss: 0.0137\n",
            "Epoch 2/5\n",
            "5367/5367 [==============================] - 36s 7ms/step - loss: 0.0040\n",
            "Epoch 3/5\n",
            "5367/5367 [==============================] - 36s 7ms/step - loss: 0.0026\n",
            "Epoch 4/5\n",
            "5367/5367 [==============================] - 36s 7ms/step - loss: 0.0018\n",
            "Epoch 5/5\n",
            "5367/5367 [==============================] - 37s 7ms/step - loss: 0.0012\n"
          ],
          "name": "stdout"
        },
        {
          "output_type": "execute_result",
          "data": {
            "text/plain": [
              "<tensorflow.python.keras.callbacks.History at 0x7efe68f8b080>"
            ]
          },
          "metadata": {
            "tags": []
          },
          "execution_count": 27
        }
      ]
    },
    {
      "cell_type": "code",
      "metadata": {
        "id": "Uf0V4bB1Pkv9",
        "outputId": "32897bc0-3da6-4968-822a-739712c84e77",
        "colab": {
          "base_uri": "https://localhost:8080/",
          "height": 290
        }
      },
      "source": [
        "input = open_price[len(open_price)-len(test_set):].values\n",
        "input.shape\n",
        "input"
      ],
      "execution_count": 32,
      "outputs": [
        {
          "output_type": "execute_result",
          "data": {
            "text/plain": [
              "array([[1.0173],\n",
              "       [1.0122],\n",
              "       [1.013 ],\n",
              "       [1.0113],\n",
              "       [1.0151],\n",
              "       [1.0256],\n",
              "       [1.0307],\n",
              "       [1.0333],\n",
              "       [1.0256],\n",
              "       [1.0284],\n",
              "       [1.0317],\n",
              "       [1.032 ],\n",
              "       [1.0304],\n",
              "       [1.0255],\n",
              "       [1.0085]])"
            ]
          },
          "metadata": {
            "tags": []
          },
          "execution_count": 32
        }
      ]
    },
    {
      "cell_type": "code",
      "metadata": {
        "id": "lwpCZPYaR-na",
        "outputId": "253aa3b1-e049-4932-90da-bc0d00cdf7b4",
        "colab": {
          "base_uri": "https://localhost:8080/",
          "height": 780
        }
      },
      "source": [
        "x_test = []\n",
        "for i in range(2,16):\n",
        "    x_test.append(input[i-2:i,0])\n",
        "x_test = np.array(x_test)\n",
        "x_test = np.reshape(x_test,(x_test.shape[0],x_test.shape[1],1))\n",
        "print(x_test.shape)\n",
        "x_test"
      ],
      "execution_count": 34,
      "outputs": [
        {
          "output_type": "stream",
          "text": [
            "(14, 2, 1)\n"
          ],
          "name": "stdout"
        },
        {
          "output_type": "execute_result",
          "data": {
            "text/plain": [
              "array([[[1.0173],\n",
              "        [1.0122]],\n",
              "\n",
              "       [[1.0122],\n",
              "        [1.013 ]],\n",
              "\n",
              "       [[1.013 ],\n",
              "        [1.0113]],\n",
              "\n",
              "       [[1.0113],\n",
              "        [1.0151]],\n",
              "\n",
              "       [[1.0151],\n",
              "        [1.0256]],\n",
              "\n",
              "       [[1.0256],\n",
              "        [1.0307]],\n",
              "\n",
              "       [[1.0307],\n",
              "        [1.0333]],\n",
              "\n",
              "       [[1.0333],\n",
              "        [1.0256]],\n",
              "\n",
              "       [[1.0256],\n",
              "        [1.0284]],\n",
              "\n",
              "       [[1.0284],\n",
              "        [1.0317]],\n",
              "\n",
              "       [[1.0317],\n",
              "        [1.032 ]],\n",
              "\n",
              "       [[1.032 ],\n",
              "        [1.0304]],\n",
              "\n",
              "       [[1.0304],\n",
              "        [1.0255]],\n",
              "\n",
              "       [[1.0255],\n",
              "        [1.0085]]])"
            ]
          },
          "metadata": {
            "tags": []
          },
          "execution_count": 34
        }
      ]
    },
    {
      "cell_type": "code",
      "metadata": {
        "id": "zzA75TYbSAUH",
        "outputId": "1dc187e1-f574-4ca6-b055-36d2235d0623",
        "colab": {
          "base_uri": "https://localhost:8080/",
          "height": 281
        }
      },
      "source": [
        "pred = lstm_model.predict(x_test)\n",
        "# pred = pred[1:]\n",
        "# # pred = sc.inverse_transform(pred)\n",
        "plt.plot(test_set,color='green')\n",
        "plt.plot(pred,color='red')\n",
        "plt.title('Stock_prediction')\n",
        "plt.legend(['Actual', 'Predicted'])\n",
        "plt.show()"
      ],
      "execution_count": 36,
      "outputs": [
        {
          "output_type": "display_data",
          "data": {
            "image/png": "[encoded data removed]",
            "text/plain": [
              "<Figure size 432x288 with 1 Axes>"
            ]
          },
          "metadata": {
            "tags": [],
            "needs_background": "light"
          }
        }
      ]
    },
    {
      "cell_type": "code",
      "metadata": {
        "id": "3UwWBs2tT-83",
        "outputId": "5539a0b7-4cec-4b1b-e17e-791cff45bf1d",
        "colab": {
          "base_uri": "https://localhost:8080/",
          "height": 53
        }
      },
      "source": [
        "pred"
      ],
      "execution_count": 22,
      "outputs": [
        {
          "output_type": "execute_result",
          "data": {
            "text/plain": [
              "array([[1.0242391],\n",
              "       [1.0268409]], dtype=float32)"
            ]
          },
          "metadata": {
            "tags": []
          },
          "execution_count": 22
        }
      ]
    },
    {
      "cell_type": "code",
      "metadata": {
        "id": "jHFz0aliUpyN"
      },
      "source": [
        ""
      ],
      "execution_count": null,
      "outputs": []
    }
  ]
}